{
  "nbformat": 4,
  "nbformat_minor": 0,
  "metadata": {
    "colab": {
      "provenance": [],
      "authorship_tag": "ABX9TyNS2LhhDrG3wgxVelgPqeeG",
      "include_colab_link": true
    },
    "kernelspec": {
      "name": "python3",
      "display_name": "Python 3"
    },
    "language_info": {
      "name": "python"
    }
  },
  "cells": [
    {
      "cell_type": "markdown",
      "metadata": {
        "id": "view-in-github",
        "colab_type": "text"
      },
      "source": [
        "<a href=\"https://colab.research.google.com/github/FindPrint/Demo/blob/main/demo_notebook.ipynb\" target=\"_parent\"><img src=\"https://colab.research.google.com/assets/colab-badge.svg\" alt=\"Open In Colab\"/></a>"
      ]
    },
    {
      "cell_type": "code",
      "execution_count": null,
      "metadata": {
        "id": "Cfy-W8buQiw4"
      },
      "outputs": [],
      "source": [
        "# Demo: Stochastic equation with memory and dynamic dimension\n",
        "# Minimal Colab prototype\n",
        "\n",
        "import numpy as np\n",
        "import pandas as pd\n",
        "import matplotlib.pyplot as plt\n",
        "from scipy.fft import rfft, rfftfreq\n",
        "\n",
        "print(\"✅ Libraries loaded. Upload your CSV in the next cell or use the example dataset.\")"
      ]
    },
    {
      "cell_type": "code",
      "source": [
        "import pandas as pd\n",
        "import numpy as np\n",
        "\n",
        "# Exemple intégré si aucun fichier n'est uploadé\n",
        "example = pd.DataFrame({\n",
        "    \"time\": np.linspace(0, 10, 500),\n",
        "    \"signal\": np.sin(2*np.pi*0.5*np.linspace(0, 10, 500)) + 0.1*np.random.randn(500)\n",
        "})\n",
        "example.to_csv(\"example.csv\", index=False)\n",
        "\n",
        "print(\"👉 You can upload your own CSV (at least 2 columns), or use the example.csv provided.\")\n",
        "\n",
        "# Upload via Colab\n",
        "try:\n",
        "    from google.colab import files\n",
        "    uploaded = files.upload()\n",
        "except ImportError:\n",
        "    uploaded = {}\n",
        "\n",
        "# Si un fichier est uploadé, on le lit, sinon on prend l'exemple\n",
        "if uploaded:\n",
        "    filename = list(uploaded.keys())[0]\n",
        "    df = pd.read_csv(filename)\n",
        "else:\n",
        "    df = pd.read_csv(\"example.csv\")\n",
        "\n",
        "# ✅ Normalisation automatique\n",
        "if df.shape[1] < 2:\n",
        "    raise ValueError(\"❌ Your CSV must contain at least 2 columns.\")\n",
        "\n",
        "# On garde seulement les 2 premières colonnes\n",
        "df = df.iloc[:, :2]\n",
        "\n",
        "# On renomme en 't' et 'phi'\n",
        "df.columns = ['t', 'phi']\n",
        "\n",
        "# On supprime les valeurs manquantes\n",
        "df = df.dropna().reset_index(drop=True)\n",
        "\n",
        "# Vérification des types numériques\n",
        "if not np.issubdtype(df['t'].dtype, np.number) or not np.issubdtype(df['phi'].dtype, np.number):\n",
        "    raise TypeError(\"⚠️ Error: Columns 't' and 'phi' must contain numeric values only.\")\n",
        "\n",
        "# Extraction des vecteurs\n",
        "t = df['t'].values\n",
        "phi = df['phi'].values\n",
        "\n",
        "print(\"✅ Data loaded and cleaned:\", df.shape)\n",
        "print(df.head())"
      ],
      "metadata": {
        "id": "o5mHAhddQvYW"
      },
      "execution_count": null,
      "outputs": []
    },
    {
      "cell_type": "code",
      "source": [
        "# Amplitude observée = moyenne absolue sur les 20% finaux\n",
        "phi_final = phi[int(0.8 * len(phi)):]\n",
        "amp_obs = np.mean(np.abs(phi_final))\n",
        "print(\"Observed amplitude:\", amp_obs)"
      ],
      "metadata": {
        "id": "S_VargozQyBL"
      },
      "execution_count": null,
      "outputs": []
    },
    {
      "cell_type": "code",
      "source": [
        "# Estimation simple de alpha_mean via fréquence dominante\n",
        "yf = rfft(phi - np.mean(phi))\n",
        "xf = rfftfreq(len(phi), d=(t[1] - t[0]))\n",
        "f_dom = xf[np.argmax(np.abs(yf))]\n",
        "alpha_mean = f_dom * np.var(phi)\n",
        "\n",
        "# Facteur d’échelle ajustable\n",
        "factor = 100.0\n",
        "alpha_scaled = factor * alpha_mean\n",
        "amp_theo = np.sqrt(alpha_scaled) if alpha_scaled > 0 else 0\n",
        "\n",
        "print(\"α_mean (spectral):\", alpha_mean)\n",
        "print(\"Theoretical amplitude:\", amp_theo)"
      ],
      "metadata": {
        "id": "StuMiX2wQ0ZP"
      },
      "execution_count": null,
      "outputs": []
    },
    {
      "cell_type": "code",
      "source": [
        "# Erreur relative\n",
        "error = abs(amp_obs - amp_theo) / amp_theo if amp_theo > 0 else None\n",
        "\n",
        "# Graphe\n",
        "plt.figure(figsize=(10,5))\n",
        "plt.plot(t, phi, label=\"Real signal\")\n",
        "plt.axhline(amp_obs, color=\"green\", linestyle=\"--\", label=f\"Observed amplitude = {amp_obs:.2f}\")\n",
        "plt.axhline(amp_theo, color=\"red\", linestyle=\"--\", label=f\"Theoretical amplitude = {amp_theo:.2f}\")\n",
        "plt.xlabel(\"Time\")\n",
        "plt.ylabel(\"φ(t)\")\n",
        "plt.title(\"Observed vs Theoretical Amplitude\")\n",
        "plt.legend()\n",
        "plt.show()\n",
        "\n",
        "print(\"Relative error:\", f\"{error:.2%}\" if error is not None else \"N/A\")"
      ],
      "metadata": {
        "id": "qV359Lq9Q2Kv"
      },
      "execution_count": null,
      "outputs": []
    }
  ]
}